{
 "cells": [
  {
   "cell_type": "code",
   "execution_count": 76,
   "metadata": {
    "collapsed": true
   },
   "outputs": [
    {
     "data": {
      "text/plain": "          month  position                artist                    song  \\\n0      Jan 2000         1  Rob Thomas & Santana                  Smooth   \n1      Jan 2000         2    Christina Aguilera       What A Girl Wants   \n2      Jan 2000         3         Savage Garden      I Knew I Loved You   \n3      Jan 2000         4           Celine Dion    That's The Way It Is   \n4      Jan 2000         5             Eiffel 65        Blue (Da Ba Dee)   \n...         ...       ...                   ...                     ...   \n11695  Jun 2019        46     Meduza & Goodboys     Piece Of Your Heart   \n11696  Jun 2019        47          Taylor Swift   You Need To Calm Down   \n11697  Jun 2019        48          Thomas Rhett  Look What God Gave Her   \n11698  Jun 2019        49                Calboy                 Envy Me   \n11699  Jun 2019        50            Kane Brown             Good As You   \n\n          score  us  uk  de   fr  ca  au  \n0      3911.953   1   -  44    -   -   5  \n1      3787.015   1  81  18    -   1   9  \n2      3693.844   1  56  68   43   1  21  \n3      3341.488   8  20   9   10   -  14  \n4      3340.978   6  28  22   10   1   1  \n...         ...  ..  ..  ..  ...  ..  ..  \n11695   763.855   -   6  12   86   -  11  \n11696   748.374   2   5  36  154   4   3  \n11697   739.890  37   -   -    -  33   -  \n11698   732.388  38   -   -    -  59   -  \n11699   728.173  36   -   -    -  62   -  \n\n[11700 rows x 11 columns]",
      "text/html": "<div>\n<style scoped>\n    .dataframe tbody tr th:only-of-type {\n        vertical-align: middle;\n    }\n\n    .dataframe tbody tr th {\n        vertical-align: top;\n    }\n\n    .dataframe thead th {\n        text-align: right;\n    }\n</style>\n<table border=\"1\" class=\"dataframe\">\n  <thead>\n    <tr style=\"text-align: right;\">\n      <th></th>\n      <th>month</th>\n      <th>position</th>\n      <th>artist</th>\n      <th>song</th>\n      <th>score</th>\n      <th>us</th>\n      <th>uk</th>\n      <th>de</th>\n      <th>fr</th>\n      <th>ca</th>\n      <th>au</th>\n    </tr>\n  </thead>\n  <tbody>\n    <tr>\n      <th>0</th>\n      <td>Jan 2000</td>\n      <td>1</td>\n      <td>Rob Thomas &amp; Santana</td>\n      <td>Smooth</td>\n      <td>3911.953</td>\n      <td>1</td>\n      <td>-</td>\n      <td>44</td>\n      <td>-</td>\n      <td>-</td>\n      <td>5</td>\n    </tr>\n    <tr>\n      <th>1</th>\n      <td>Jan 2000</td>\n      <td>2</td>\n      <td>Christina Aguilera</td>\n      <td>What A Girl Wants</td>\n      <td>3787.015</td>\n      <td>1</td>\n      <td>81</td>\n      <td>18</td>\n      <td>-</td>\n      <td>1</td>\n      <td>9</td>\n    </tr>\n    <tr>\n      <th>2</th>\n      <td>Jan 2000</td>\n      <td>3</td>\n      <td>Savage Garden</td>\n      <td>I Knew I Loved You</td>\n      <td>3693.844</td>\n      <td>1</td>\n      <td>56</td>\n      <td>68</td>\n      <td>43</td>\n      <td>1</td>\n      <td>21</td>\n    </tr>\n    <tr>\n      <th>3</th>\n      <td>Jan 2000</td>\n      <td>4</td>\n      <td>Celine Dion</td>\n      <td>That's The Way It Is</td>\n      <td>3341.488</td>\n      <td>8</td>\n      <td>20</td>\n      <td>9</td>\n      <td>10</td>\n      <td>-</td>\n      <td>14</td>\n    </tr>\n    <tr>\n      <th>4</th>\n      <td>Jan 2000</td>\n      <td>5</td>\n      <td>Eiffel 65</td>\n      <td>Blue (Da Ba Dee)</td>\n      <td>3340.978</td>\n      <td>6</td>\n      <td>28</td>\n      <td>22</td>\n      <td>10</td>\n      <td>1</td>\n      <td>1</td>\n    </tr>\n    <tr>\n      <th>...</th>\n      <td>...</td>\n      <td>...</td>\n      <td>...</td>\n      <td>...</td>\n      <td>...</td>\n      <td>...</td>\n      <td>...</td>\n      <td>...</td>\n      <td>...</td>\n      <td>...</td>\n      <td>...</td>\n    </tr>\n    <tr>\n      <th>11695</th>\n      <td>Jun 2019</td>\n      <td>46</td>\n      <td>Meduza &amp; Goodboys</td>\n      <td>Piece Of Your Heart</td>\n      <td>763.855</td>\n      <td>-</td>\n      <td>6</td>\n      <td>12</td>\n      <td>86</td>\n      <td>-</td>\n      <td>11</td>\n    </tr>\n    <tr>\n      <th>11696</th>\n      <td>Jun 2019</td>\n      <td>47</td>\n      <td>Taylor Swift</td>\n      <td>You Need To Calm Down</td>\n      <td>748.374</td>\n      <td>2</td>\n      <td>5</td>\n      <td>36</td>\n      <td>154</td>\n      <td>4</td>\n      <td>3</td>\n    </tr>\n    <tr>\n      <th>11697</th>\n      <td>Jun 2019</td>\n      <td>48</td>\n      <td>Thomas Rhett</td>\n      <td>Look What God Gave Her</td>\n      <td>739.890</td>\n      <td>37</td>\n      <td>-</td>\n      <td>-</td>\n      <td>-</td>\n      <td>33</td>\n      <td>-</td>\n    </tr>\n    <tr>\n      <th>11698</th>\n      <td>Jun 2019</td>\n      <td>49</td>\n      <td>Calboy</td>\n      <td>Envy Me</td>\n      <td>732.388</td>\n      <td>38</td>\n      <td>-</td>\n      <td>-</td>\n      <td>-</td>\n      <td>59</td>\n      <td>-</td>\n    </tr>\n    <tr>\n      <th>11699</th>\n      <td>Jun 2019</td>\n      <td>50</td>\n      <td>Kane Brown</td>\n      <td>Good As You</td>\n      <td>728.173</td>\n      <td>36</td>\n      <td>-</td>\n      <td>-</td>\n      <td>-</td>\n      <td>62</td>\n      <td>-</td>\n    </tr>\n  </tbody>\n</table>\n<p>11700 rows × 11 columns</p>\n</div>"
     },
     "metadata": {},
     "output_type": "display_data"
    },
    {
     "name": "stdout",
     "output_type": "stream",
     "text": [
      "Index(['month', 'position', 'artist', 'song', 'score', 'us', 'uk', 'de', 'fr',\n",
      "       'ca', 'au'],\n",
      "      dtype='object')\n"
     ]
    }
   ],
   "source": [
    "import pandas as pd\n",
    "from IPython.display import display\n",
    "import numpy as np\n",
    "import matplotlib.pyplot as plt\n",
    "\n",
    "# read data as DataFrame using pandas\n",
    "data = pd.read_csv(\"chart2000-songmonth-0-3-0054.csv\")\n",
    "columns = data.columns"
   ]
  },
  {
   "cell_type": "code",
   "execution_count": 77,
   "outputs": [
    {
     "name": "stdout",
     "output_type": "stream",
     "text": [
      "Numbers of unique artists in the charts: 1721\n",
      "Numbers of unique songs in the charts: 2964\n"
     ]
    }
   ],
   "source": [
    "\"\"\"\n",
    "1)\n",
    "a) How many unique artists are represented in the charts?\n",
    "b) How many unique songs are represented?\n",
    "\"\"\"\n",
    "print(\"Numbers of unique artists in the charts: \" + str(len(data[\"artist\"].unique())))\n",
    "print(\"Numbers of unique songs in the charts: \" + str(len(data[\"song\"].unique())))\n",
    "print(\"\\n\")"
   ],
   "metadata": {
    "collapsed": false,
    "pycharm": {
     "name": "#%%\n"
    }
   }
  },
  {
   "cell_type": "code",
   "execution_count": 78,
   "outputs": [
    {
     "name": "stdout",
     "output_type": "stream",
     "text": [
      "This song has the highest one-month score of all time: Yeah!\n",
      "It happens in this month: Apr 2004\n",
      "The artists that produced this song: Usher, Lil' Jon & Ludacris\n"
     ]
    }
   ],
   "source": [
    "\"\"\"\n",
    "2)\n",
    "a) What song has the highest one-month score of all time?\n",
    "b) What month was this?\n",
    "c) Who was the artist?\n",
    "\"\"\"\n",
    "highest_score_idx = data[\"score\"].idxmax()\n",
    "print(\"This song has the highest one-month score of all time: \" + data[\"song\"][highest_score_idx])\n",
    "print(\"It happens in this month: \" + data[\"month\"][highest_score_idx])\n",
    "artists = data[\"artist\"][highest_score_idx]\n",
    "# artists = artists.split(\",\") # First split the artist field by comma\n",
    "# for element in artists: # Then split the rest of artist field by &, append each splitted artist into\n",
    "#     if element.split(\"&\") != [element]: # original \"artists\" list\n",
    "#         splitted = element.split(\"&\")\n",
    "#         for artist in splitted:\n",
    "#             artists.append(artist)\n",
    "#         artists.remove(element)\n",
    "print(\"The artists that produced this song: \" + artists)\n",
    "print(\"\\n\")"
   ],
   "metadata": {
    "collapsed": false,
    "pycharm": {
     "name": "#%%\n"
    }
   }
  },
  {
   "cell_type": "code",
   "execution_count": 79,
   "outputs": [
    {
     "name": "stdout",
     "output_type": "stream",
     "text": [
      "The song 'Safe and Sound' stayed on the chart for 10 months.\n",
      "Its peak US chart position was: 10\n",
      "The song achieved this peak in Oct 2013\n"
     ]
    }
   ],
   "source": [
    "\"\"\"\n",
    "3) As I am writing this, I am listening to the song “Safe and Sound” by Capital Cities.\n",
    "a) How many months was this song on the charts in the United States?\n",
    "b) What was its peak US chart position?\n",
    "c) In what month did it achieve this peak US chart position?\n",
    "\"\"\"\n",
    "charts_of_safe_and_sound = data.loc[(data[\"song\"] == \"Safe And Sound\")]\n",
    "print(\"The song 'Safe and Sound' stayed on the chart for \" + str(len(charts_of_safe_and_sound)) + \" months.\")\n",
    "\n",
    "highest_pos = charts_of_safe_and_sound[\"us\"].min()\n",
    "print(\"Its peak US chart position was: \" + str(highest_pos))\n",
    "\n",
    "highest_score_row = charts_of_safe_and_sound.loc[charts_of_safe_and_sound[\"us\"] == highest_pos]\n",
    "highest_score_row = highest_score_row.reset_index()\n",
    "occured_month = highest_score_row[\"month\"][0]\n",
    "print(\"The song achieved this peak in \" + str(occured_month))\n",
    "print(\"\\n\")"
   ],
   "metadata": {
    "collapsed": false,
    "pycharm": {
     "name": "#%%\n"
    }
   }
  },
  {
   "cell_type": "code",
   "execution_count": 80,
   "outputs": [
    {
     "name": "stdout",
     "output_type": "stream",
     "text": [
      "Rihanna has spend the most time on the chart\n",
      "She has scored 123 months on the chart\n"
     ]
    }
   ],
   "source": [
    "\"\"\"\n",
    "4)\n",
    "a) Which artist has spent the most time on the charts as defined by chart-months?\n",
    "b) How many chart-months have they scored?\n",
    "\"\"\"\n",
    "artists = data[\"artist\"].unique()\n",
    "chart_month_total = []\n",
    "# print(data.loc[data[\"artist\"] == artists[0]])\n",
    "chart_months_per_artists = []\n",
    "for artist in artists:\n",
    "    temp = []\n",
    "    temp.append(artist)\n",
    "    temp.append(len(data.loc[data[\"artist\"] == artist]))\n",
    "    chart_months_per_artists.append(len(data.loc[data[\"artist\"] == artist]))\n",
    "    chart_month_total.append(temp)\n",
    "\n",
    "idx_of_max = []\n",
    "i = 0\n",
    "while i < len(chart_months_per_artists):\n",
    "    if chart_months_per_artists[i] == max(chart_months_per_artists):\n",
    "        idx_of_max.append(i)\n",
    "    i += 1\n",
    "\n",
    "artists_of_most_months = []\n",
    "for idx in idx_of_max:\n",
    "    current_artist = chart_month_total[idx][0]\n",
    "    if current_artist not in artists_of_most_months:\n",
    "        artists_of_most_months.append(current_artist)\n",
    "\n",
    "print(artists_of_most_months[0] + \" has spend the most time on the chart\")\n",
    "print(\"She has scored \" + str(max(chart_months_per_artists)) + \" months on the chart\")\n",
    "print(\"\\n\")"
   ],
   "metadata": {
    "collapsed": false,
    "pycharm": {
     "name": "#%%\n"
    }
   }
  },
  {
   "cell_type": "code",
   "execution_count": 81,
   "outputs": [
    {
     "name": "stdout",
     "output_type": "stream",
     "text": [
      "Drake has 10 #1 hits in Canada.\n"
     ]
    }
   ],
   "source": [
    "\"\"\"\n",
    "5) How many #1 hits does Drake have in Canada?\n",
    "\"\"\"\n",
    "drake_data = data.loc[(data[\"artist\"] == \"Drake\") & (data[\"ca\"] == \"1\")]\n",
    "hit_songs = drake_data[\"song\"].unique()\n",
    "print(\"Drake has \" + str(len(drake_data)) + \" #1 hits in Canada.\")\n",
    "print(\"\\n\")"
   ],
   "metadata": {
    "collapsed": false,
    "pycharm": {
     "name": "#%%\n"
    }
   }
  },
  {
   "cell_type": "code",
   "execution_count": 82,
   "outputs": [
    {
     "name": "stdout",
     "output_type": "stream",
     "text": [
      "Here are the songs that do not have a position on the chart in Australia: \n",
      "1: Poker Face\n",
      "2: LoveGame\n",
      "3: Paparazzi\n",
      "4: Alejandro\n",
      "5: You & I\n",
      "6: Marry The Night\n",
      "7: Applause\n"
     ]
    }
   ],
   "source": [
    "\"\"\"\n",
    "6) Which Lady Gaga song on the list did not chart in Australia?\n",
    "\"\"\"\n",
    "gaga_data = data.loc[(data[\"artist\"] == \"Lady GaGa\") & (data[\"au\"] == \"-\")]\n",
    "# print(gaga_data[\"song\"])\n",
    "songs = gaga_data[\"song\"].unique()\n",
    "print(\"Here are the songs that do not have a position on the chart in Australia: \")\n",
    "for i, song in enumerate(songs):\n",
    "    print(str(i + 1) + \": \" + song)\n",
    "print(\"\\n\")"
   ],
   "metadata": {
    "collapsed": false,
    "pycharm": {
     "name": "#%%\n"
    }
   }
  },
  {
   "cell_type": "code",
   "execution_count": 83,
   "outputs": [
    {
     "name": "stdout",
     "output_type": "stream",
     "text": [
      "In Ariana Grande's career, the highest number of her\n",
      "songs on the chart is 4, she achieved this in Feb 2019 .\n",
      "\n",
      "\n",
      "In corresponding months, here are the songs' ranks: \n",
      "7 Rings, ranked: 1\n",
      "Thank U, Next, ranked: 3\n",
      "Break Up With Your Girlfriend, I'm, ranked: 2\n",
      "Breathin, ranked: 18\n",
      "\n",
      "\n",
      "The highest is 7 Rings, ranked 1st on the US chart.\n"
     ]
    }
   ],
   "source": [
    "\"\"\"\n",
    "7)\n",
    "a) In what month of her career did Ariana Grande have her highest-ever number of songs\n",
    "on the charts?\n",
    "b) In this month, how many songs did she chart?\n",
    "c) What were these songs ranked in the US, and which was the highest?\n",
    "\"\"\"\n",
    "ariana_grande_data = data.loc[(data[\"artist\"] == \"Ariana Grande\")]\n",
    "# print(ariana_grande_data)\n",
    "months = ariana_grande_data[\"month\"].unique()\n",
    "# print(months)\n",
    "AG_months_chart_count = []\n",
    "for month in months:\n",
    "    AG_months_chart_count.append(len(ariana_grande_data.loc[ariana_grande_data[\"month\"] == month]))\n",
    "highest_num_of_songs_idx = AG_months_chart_count.index(max(AG_months_chart_count))\n",
    "month_of_highest_num_of_songs = months[highest_num_of_songs_idx]\n",
    "print(\"In Ariana Grande's career, the highest number of her\"\n",
    "      \"\\nsongs on the chart is \" + str(AG_months_chart_count[highest_num_of_songs_idx])\\\n",
    "      + \", she achieved this in \" + str(month_of_highest_num_of_songs) + \" .\")\n",
    "print(\"\\n\")\n",
    "print(\"In corresponding months, here are the songs' ranks: \")\n",
    "# find rank by month & song\n",
    "ranks_month = ariana_grande_data.loc[(ariana_grande_data[\"month\"] == month_of_highest_num_of_songs)]\n",
    "# print(ranks_month)\n",
    "ranks = ranks_month[\"us\"]\n",
    "songs = []\n",
    "for rank in ranks:\n",
    "    songs.append(ranks_month.loc[ranks_month[\"us\"] == rank])\n",
    "for i, song in enumerate(songs):\n",
    "    print(song[\"song\"].values[0] + \", ranked: \" + str(song[\"us\"].values[0]))\n",
    "print(\"\\n\")\n",
    "print(\"The highest is 7 Rings, ranked 1st on the US chart.\")\n",
    "print(\"\\n\")"
   ],
   "metadata": {
    "collapsed": false,
    "pycharm": {
     "name": "#%%\n"
    }
   }
  },
  {
   "cell_type": "code",
   "execution_count": 89,
   "outputs": [
    {
     "name": "stdout",
     "output_type": "stream",
     "text": [
      "These 10 artists had the most unique songs \n",
      "make the charts between 2013 and 2017\n",
      "1. Drake with 19 unique songs\n",
      "2. Rihanna with 16 unique songs\n",
      "3. Chris Brown with 14 unique songs\n",
      "4. Nicki Minaj with 14 unique songs\n",
      "5. Selena Gomez with 12 unique songs\n",
      "6. Taylor Swift with 11 unique songs\n",
      "7. Ed Sheeran with 10 unique songs\n",
      "8. Ariana Grande with 9 unique songs\n",
      "9. Jason Derulo with 9 unique songs\n",
      "10. Kendrick Lamar with 9 unique songs\n"
     ]
    },
    {
     "data": {
      "text/plain": "<Figure size 432x288 with 1 Axes>",
      "image/png": "[encoded data removed]"
     },
     "metadata": {
      "needs_background": "light"
     },
     "output_type": "display_data"
    }
   ],
   "source": [
    "\"\"\"\n",
    "8)\n",
    "a) Which ten artists had the most unique songs make the charts between 2013 and 2017?\n",
    "b) Make a bar graph that includes each artist and how many songs they charted. Please\n",
    "label, title, and color your graph appropriately.\n",
    "\"\"\"\n",
    "data_q8 = data.drop_duplicates([\"song\"], keep=\"first\", ignore_index=True)\n",
    "all_months = data_q8[\"month\"]\n",
    "data_between_13_17 = []\n",
    "for i, month in enumerate(all_months):\n",
    "    year = int(month.split(\" \")[1])\n",
    "    if 2013 <= year <= 2017:\n",
    "        data_between_13_17.append(data_q8.iloc[i])\n",
    "\n",
    "artists_in_interval = []\n",
    "\n",
    "for row in data_between_13_17:\n",
    "    artists_in_interval.append(row[2])\n",
    "\n",
    "artists_in_interval = pd.DataFrame(artists_in_interval, columns=[\"artist\"])\n",
    "artists_in_interval = artists_in_interval[\"artist\"].unique()\n",
    "artists_in_interval = artists_in_interval.tolist()\n",
    "\n",
    "artist_counts = []\n",
    "for artist in artists_in_interval:\n",
    "    count = 0\n",
    "    for row in data_between_13_17:\n",
    "        artists = row[2]\n",
    "        if artist in artists:\n",
    "            count += 1\n",
    "    artist_counts.append(count)\n",
    "max_10_artists_and_counts = []\n",
    "orig_length = len(artists_in_interval)\n",
    "while orig_length - len(artists_in_interval) < 10:\n",
    "    max_count = max(artist_counts)\n",
    "    max_index = artist_counts.index(max_count)\n",
    "    max_artist = artists_in_interval[max_index]\n",
    "    max_10_artists_and_counts.append([max_artist, max_count])\n",
    "    artist_counts.pop(max_index)\n",
    "    artists_in_interval.pop(max_index)\n",
    "\n",
    "print(\"These 10 artists had the most unique songs \"\n",
    "      \"\\nmake the charts between 2013 and 2017\")\n",
    "artists_names = []\n",
    "artists_count = []\n",
    "for i, pair in enumerate(max_10_artists_and_counts):\n",
    "    print(str(i + 1) + \". \" + pair[0] + \" with \" + str(pair[1]) + \" unique songs\")\n",
    "    artists_names.append(pair[0])\n",
    "    artists_count.append(pair[1])\n",
    "\n",
    "fig, ax = plt.subplots(figsize=(800, 600))\n",
    "y_pos = np.arange(len(artists_names))\n",
    "ax.barh(y_pos, artists_count, align=\"center\")\n",
    "ax.set_yticks(y_pos)\n",
    "ax.set_yticklabels(artists_names)\n",
    "ax.invert_yaxis()\n",
    "ax.set_xlabel(\"Number of unique songs\")\n",
    "ax.set_title(\"Top ten artists with their numbers of unique songs\")\n",
    "for i, count in enumerate(artists_count):\n",
    "    ax.text(count, (i + 0.15), str(count), color=\"blue\")\n",
    "plt.show()\n",
    "\n",
    "\n"
   ],
   "metadata": {
    "collapsed": false,
    "pycharm": {
     "name": "#%%\n"
    }
   }
  }
 ],
 "metadata": {
  "kernelspec": {
   "display_name": "Python 3",
   "language": "python",
   "name": "python3"
  },
  "language_info": {
   "codemirror_mode": {
    "name": "ipython",
    "version": 2
   },
   "file_extension": ".py",
   "mimetype": "text/x-python",
   "name": "python",
   "nbconvert_exporter": "python",
   "pygments_lexer": "ipython2",
   "version": "2.7.6"
  }
 },
 "nbformat": 4,
 "nbformat_minor": 0
}