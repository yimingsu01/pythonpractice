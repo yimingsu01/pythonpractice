{
 "cells": [
  {
   "cell_type": "code",
   "execution_count": 13,
   "metadata": {
    "collapsed": true
   },
   "outputs": [],
   "source": [
    "import pandas as pd\n",
    "import numpy as np\n",
    "import matplotlib.pyplot as plt\n",
    "\n",
    "# read data as DataFrame using pandas\n",
    "data = pd.read_csv(\"chart2000-songmonth-0-3-0054.csv\")\n",
    "columns = data.columns\n",
    "# checking columns in the DataFrame"
   ]
  },
  {
   "cell_type": "code",
   "execution_count": 14,
   "outputs": [
    {
     "name": "stdout",
     "output_type": "stream",
     "text": [
      "Question 1: \n",
      "Numbers of unique artists in the charts: 1721.\n",
      "Numbers of unique songs in the charts: 2964.\n",
      "\n",
      "\n"
     ]
    }
   ],
   "source": [
    "\"\"\"\n",
    "1)\n",
    "A: Use DataFrame.unique() to access unique values in columns.\n",
    "\"\"\"\n",
    "print(\"Question 1: \")\n",
    "print(\"Numbers of unique artists in the charts: \" + str(len(data[\"artist\"].unique())) + \".\")\n",
    "print(\"Numbers of unique songs in the charts: \" + str(len(data[\"song\"].unique())) + \".\")\n",
    "print(\"\\n\")"
   ],
   "metadata": {
    "collapsed": false,
    "pycharm": {
     "name": "#%%\n"
    }
   }
  },
  {
   "cell_type": "code",
   "execution_count": 15,
   "outputs": [
    {
     "name": "stdout",
     "output_type": "stream",
     "text": [
      "Question 2: \n",
      "This song has the highest one-month score of all time: Yeah!.\n",
      "It happens in this month: Apr 2004.\n",
      "The artists that produced this song: Usher, Lil' Jon & Ludacris.\n",
      "\n",
      "\n"
     ]
    }
   ],
   "source": [
    "\"\"\"\n",
    "2)\n",
    "a) What song has the highest one-month score of all time?\n",
    "A: Calling idxmax() on DataFrame can access the index of the maximum value in a column.\n",
    "\n",
    "b) What month was this?\n",
    "A: Use previous index to get fetch this row in data, then\n",
    "   specify the column as month.\n",
    "\n",
    "c) Who was the artist?\n",
    "A: Same as above, but specify the column as artist.\n",
    "\"\"\"\n",
    "print(\"Question 2: \")\n",
    "highest_score_idx = data[\"score\"].idxmax()\n",
    "print(\"This song has the highest one-month score of all time: \" + data[\"song\"][highest_score_idx] + \".\")\n",
    "print(\"It happens in this month: \" + data[\"month\"][highest_score_idx] + \".\")\n",
    "artists = data[\"artist\"][highest_score_idx]\n",
    "print(\"The artists that produced this song: \" + artists + \".\")\n",
    "print(\"\\n\")"
   ],
   "metadata": {
    "collapsed": false,
    "pycharm": {
     "name": "#%%\n"
    }
   }
  },
  {
   "cell_type": "code",
   "execution_count": 16,
   "outputs": [
    {
     "name": "stdout",
     "output_type": "stream",
     "text": [
      "Question 3: \n",
      "The song 'Safe and Sound' stayed on the chart for 10 months.\n",
      "Its peak US chart position was: 10.\n",
      "The song achieved this peak in Oct 2013.\n",
      "\n",
      "\n"
     ]
    }
   ],
   "source": [
    "\"\"\"\n",
    "3)\n",
    "a) How many months was this song on the charts in the United States?\n",
    "A: First fetch by checking the song's name and whether it has a position in the US chart from total data\n",
    "   by DataFrame.loc[].\n",
    "   Then count the length of resulting DataFrame by using len().\n",
    "\n",
    "b) What was its peak US chart position?\n",
    "A: Using DataFrame.min() to get the smallest value in the \"us\" column (the hightest position).\n",
    "\n",
    "c) In what month did it achieve this peak US chart position?\n",
    "A: Fetch the row containing the highest position by DataFrame.loc[], and\n",
    "   fetch the first value in \"month\" column.\n",
    "\"\"\"\n",
    "print(\"Question 3: \")\n",
    "charts_of_safe_and_sound = data.loc[(data[\"song\"] == \"Safe And Sound\") & (data[\"us\"] != \"-\")]\n",
    "print(\"The song 'Safe and Sound' stayed on the chart for \" + str(len(charts_of_safe_and_sound)) + \" months.\")\n",
    "\n",
    "highest_pos = charts_of_safe_and_sound[\"us\"].min()\n",
    "print(\"Its peak US chart position was: \" + str(highest_pos) + \".\")\n",
    "\n",
    "highest_pos_row = charts_of_safe_and_sound.loc[charts_of_safe_and_sound[\"us\"] == highest_pos]\n",
    "highest_pos_row = highest_pos_row.reset_index()\n",
    "occured_month = highest_pos_row[\"month\"][0]\n",
    "print(\"The song achieved this peak in \" + str(occured_month) + \".\")\n",
    "print(\"\\n\")"
   ],
   "metadata": {
    "collapsed": false,
    "pycharm": {
     "name": "#%%\n"
    }
   }
  },
  {
   "cell_type": "code",
   "execution_count": 17,
   "outputs": [
    {
     "name": "stdout",
     "output_type": "stream",
     "text": [
      "Question 4: \n",
      "Rihanna has spend the most time on the chart.\n",
      "She has scored 123 months on the chart.\n",
      "\n",
      "\n"
     ]
    }
   ],
   "source": [
    "\"\"\"\n",
    "4)\n",
    "a) Which artist has spent the most time on the charts as defined by chart-months?\n",
    "A: First find all unique artists entries by calling DataFrame.unique() on column \"artist\"\n",
    "   Then create two list, one contains pairs made of an artist and its chart-months value.\n",
    "   second one only contains chart-months value.\n",
    "   Next, loop through the artists list by for-in, for each artist, create a temporary\n",
    "   list to store the aforementioned pair.\n",
    "   Using DataFrame.loc[] and len() to count the chart-months.\n",
    "   Finally, append the pair and the count to corresponding list.\n",
    "\n",
    "   To find the artist that achieved the most time on the charts, loop through the\n",
    "   count list and compare each value with the maximum value. If the comparison returns\n",
    "   true, use that index to find the corresponding artist, and add to the list which stores\n",
    "   the required artists' names if current artist is not in the list.\n",
    "\n",
    "b) How many chart-months have they scored?\n",
    "A: Use the built-in function max() to find the maximum value of the chart count list.\n",
    "\"\"\"\n",
    "print(\"Question 4: \")\n",
    "artists = data[\"artist\"].unique()\n",
    "chart_month_total = []\n",
    "chart_months_per_artists = []\n",
    "for artist in artists:\n",
    "    temp = []\n",
    "    temp.append(artist)\n",
    "    temp.append(len(data.loc[data[\"artist\"] == artist]))\n",
    "    chart_months_per_artists.append(len(data.loc[data[\"artist\"] == artist]))\n",
    "    chart_month_total.append(temp)\n",
    "\n",
    "i = 0\n",
    "artists_of_most_months = []\n",
    "while i < len(chart_months_per_artists):\n",
    "    if chart_months_per_artists[i] == max(chart_months_per_artists):\n",
    "        current_artist = chart_month_total[i][0]\n",
    "        artists_of_most_months.append(current_artist)\n",
    "    i += 1\n",
    "\n",
    "print(str(artists_of_most_months[0]) + \" has spend the most time on the chart.\")\n",
    "print(\"She has scored \" + str(max(chart_months_per_artists)) + \" months on the chart.\")\n",
    "print(\"\\n\")"
   ],
   "metadata": {
    "collapsed": false,
    "pycharm": {
     "name": "#%%\n"
    }
   }
  },
  {
   "cell_type": "code",
   "execution_count": 18,
   "outputs": [
    {
     "name": "stdout",
     "output_type": "stream",
     "text": [
      "Question 5: \n",
      "Drake has 10 #1 hits in Canada.\n",
      "\n",
      "\n"
     ]
    }
   ],
   "source": [
    "\"\"\"\n",
    "5) How many #1 hits does Drake have in Canada?\n",
    "A: First select rows that belongs to Drake and the position in Canada is 1st.\n",
    "   Then remove the duplicates in selected row by DataFrame.unique()\n",
    "   Finally use len() to find the number of #1 hits.\n",
    "\"\"\"\n",
    "print(\"Question 5: \")\n",
    "drake_data = data.loc[(data[\"artist\"] == \"Drake\") & (data[\"ca\"] == \"1\")]\n",
    "hit_songs = drake_data[\"song\"].unique()\n",
    "print(\"Drake has \" + str(len(drake_data)) + \" #1 hits in Canada.\")\n",
    "print(\"\\n\")"
   ],
   "metadata": {
    "collapsed": false,
    "pycharm": {
     "name": "#%%\n"
    }
   }
  },
  {
   "cell_type": "code",
   "execution_count": 19,
   "outputs": [
    {
     "name": "stdout",
     "output_type": "stream",
     "text": [
      "Question 6: \n",
      "Here are the songs that do not have a position on the chart in Australia: \n",
      "1: Poker Face\n",
      "2: LoveGame\n",
      "3: Paparazzi\n",
      "4: Alejandro\n",
      "5: You & I\n",
      "6: Marry The Night\n",
      "7: Applause\n",
      "\n",
      "\n"
     ]
    }
   ],
   "source": [
    "\"\"\"\n",
    "6) Which Lady Gaga song on the list did not chart in Australia?\n",
    "A: Similar to above solution, but the fetching requirements become Lady Gaga and - (no rank).\n",
    "\"\"\"\n",
    "print(\"Question 6: \")\n",
    "gaga_data = data.loc[(data[\"artist\"] == \"Lady GaGa\") & (data[\"au\"] == \"-\")]\n",
    "songs = gaga_data[\"song\"].unique()\n",
    "print(\"Here are the songs that do not have a position on the chart in Australia: \")\n",
    "for i, song in enumerate(songs):\n",
    "    print(str(i + 1) + \": \" + song)\n",
    "print(\"\\n\")"
   ],
   "metadata": {
    "collapsed": false,
    "pycharm": {
     "name": "#%%\n"
    }
   }
  },
  {
   "cell_type": "code",
   "execution_count": 20,
   "outputs": [
    {
     "name": "stdout",
     "output_type": "stream",
     "text": [
      "Question 7: \n",
      "In Ariana Grande's career, the highest number of her songs on the chart is 4, she achieved this in Feb 2019.\n",
      "\n",
      "\n",
      "In corresponding months, here are the songs' ranks: \n",
      "7 Rings, ranked: #1.\n",
      "Thank U, Next, ranked: #3.\n",
      "Break Up With Your Girlfriend, I'm, ranked: #2.\n",
      "Breathin, ranked: #18.\n",
      "\n",
      "\n",
      "The highest is 7 Rings, ranked 1st on the US chart.\n",
      "\n",
      "\n"
     ]
    }
   ],
   "source": [
    "\"\"\"\n",
    "7)\n",
    "a) In what month of her career did Ariana Grande have her highest-ever number of songs\n",
    "on the charts?\n",
    "b) In this month, how many songs did she chart?\n",
    "c) What were these songs ranked in the US, and which was the highest?\n",
    "\n",
    "Answer for all three Qs:\n",
    "   A: 1. Fetch Ariana Grande's data by DataFrame.loc[]\n",
    "      2. Create a list that stores the counts of songs by month.\n",
    "      3. Loop through all months in her data, and count the numbers of song appearance in each month\n",
    "         by DataFrame.loc[] and len()\n",
    "      4. Output the number and month by max() and .index.\n",
    "      5. Fetch ranks in the computed month by DataFrame.loc[]\n",
    "      6. Loop through the ranks and find corresponding song by DataFrame.loc[] again. Stored in a list.\n",
    "\"\"\"\n",
    "print(\"Question 7: \")\n",
    "ariana_grande_data = data.loc[(data[\"artist\"] == \"Ariana Grande\")]\n",
    "months = ariana_grande_data[\"month\"].unique()\n",
    "AG_months_chart_count = []\n",
    "for month in months:\n",
    "    AG_months_chart_count.append(len(ariana_grande_data.loc[ariana_grande_data[\"month\"] == month]))\n",
    "highest_num_of_songs_idx = AG_months_chart_count.index(max(AG_months_chart_count))\n",
    "month_of_highest_num_of_songs = months[highest_num_of_songs_idx]\n",
    "print(\"In Ariana Grande's career, the highest number of her songs on the chart is \" + str(AG_months_chart_count[highest_num_of_songs_idx])\\\n",
    "      + \", she achieved this in \" + str(month_of_highest_num_of_songs) + \".\")\n",
    "print(\"\\n\")\n",
    "print(\"In corresponding months, here are the songs' ranks: \")\n",
    "ranks_month = ariana_grande_data.loc[(ariana_grande_data[\"month\"] == month_of_highest_num_of_songs)]\n",
    "ranks = ranks_month[\"us\"]\n",
    "songs = []\n",
    "for rank in ranks:\n",
    "    songs.append(ranks_month.loc[ranks_month[\"us\"] == rank])\n",
    "for i, song in enumerate(songs):\n",
    "    print(song[\"song\"].values[0] + \", ranked: #\" + str(song[\"us\"].values[0]) + \".\")\n",
    "print(\"\\n\")\n",
    "print(\"The highest is 7 Rings, ranked 1st on the US chart.\")\n",
    "print(\"\\n\")"
   ],
   "metadata": {
    "collapsed": false,
    "pycharm": {
     "name": "#%%\n"
    }
   }
  },
  {
   "cell_type": "code",
   "execution_count": 21,
   "outputs": [
    {
     "name": "stdout",
     "output_type": "stream",
     "text": [
      "Question 8: \n",
      "These 10 artists had the most unique songs \n",
      "make the charts between 2013 and 2017.\n",
      "1. Drake with 19 unique songs。\n",
      "2. Rihanna with 16 unique songs。\n",
      "3. Chris Brown with 14 unique songs。\n",
      "4. Nicki Minaj with 14 unique songs。\n",
      "5. Selena Gomez with 12 unique songs。\n",
      "6. Taylor Swift with 11 unique songs。\n",
      "7. Ed Sheeran with 10 unique songs。\n",
      "8. Ariana Grande with 9 unique songs。\n",
      "9. Jason Derulo with 9 unique songs。\n",
      "10. Kendrick Lamar with 9 unique songs。\n"
     ]
    },
    {
     "data": {
      "text/plain": "<Figure size 756x432 with 1 Axes>",
      "image/png": "[encoded data removed]"
     },
     "metadata": {
      "needs_background": "light"
     },
     "output_type": "display_data"
    }
   ],
   "source": [
    "\"\"\"\n",
    "8)\n",
    "a) Which ten artists had the most unique songs make the charts between 2013 and 2017?\n",
    "A: 1. Drop all duplicates first by DataFrame.drop_duplicates()\n",
    "   2. Fetch all data from 2013 and 2017 by a custom loop that loops through the month column\n",
    "      in the data.\n",
    "   3. Fetch all artist by looping through the artist column again, then remove the duplicates\n",
    "      and convert it to python list.\n",
    "   4. Looping through the artist list and count each artist appearance on the table,\n",
    "      record the counts in a list.\n",
    "   5. Find the maximum of the count list, and use its index to find corresponding artist.\n",
    "      Repeat 10 times to get the top 10 artists.\n",
    "   6. Output it.\n",
    "\n",
    "b) Make a bar graph that includes each artist and how many songs they charted. Please\n",
    "label, title, and color your graph appropriately.\n",
    "A: 1. Plot a horizontal bar chart, since artists' names are very long and not suitable for\n",
    "   a vertical bar chart using matplotlib.\n",
    "   2. Use a loop to add each count on the bar.\n",
    "\n",
    "\"\"\"\n",
    "print(\"Question 8: \")\n",
    "data_q8 = data.drop_duplicates([\"song\"], keep=\"first\", ignore_index=True)\n",
    "all_months = data_q8[\"month\"]\n",
    "data_between_13_17 = []\n",
    "for i, month in enumerate(all_months):\n",
    "    year = int(month.split(\" \")[1])\n",
    "    if 2013 <= year <= 2017:\n",
    "        data_between_13_17.append(data_q8.iloc[i])\n",
    "\n",
    "\n",
    "artists_in_interval = []\n",
    "for row in data_between_13_17:\n",
    "    artists_in_interval.append(row[2])\n",
    "artists_in_interval = pd.DataFrame(artists_in_interval, columns=[\"artist\"])\n",
    "artists_in_interval = artists_in_interval[\"artist\"].unique()\n",
    "artists_in_interval = artists_in_interval.tolist()\n",
    "\n",
    "artist_counts = []\n",
    "for artist in artists_in_interval:\n",
    "    count = 0\n",
    "    for row in data_between_13_17:\n",
    "        artists = row[2]\n",
    "        if artist in artists:\n",
    "            count += 1\n",
    "    artist_counts.append(count)\n",
    "\n",
    "max_10_artists_and_counts = []\n",
    "orig_length = len(artists_in_interval)\n",
    "while orig_length - len(artists_in_interval) < 10:\n",
    "    max_count = max(artist_counts)\n",
    "    max_index = artist_counts.index(max_count)\n",
    "    max_artist = artists_in_interval[max_index]\n",
    "    max_10_artists_and_counts.append([max_artist, max_count])\n",
    "    artist_counts.pop(max_index)\n",
    "    artists_in_interval.pop(max_index)\n",
    "\n",
    "print(\"These 10 artists had the most unique songs \"\n",
    "      \"\\nmake the charts between 2013 and 2017.\")\n",
    "artists_names = []\n",
    "artists_count = []\n",
    "for i, pair in enumerate(max_10_artists_and_counts):\n",
    "    print(str(i + 1) + \". \" + pair[0] + \" with \" + str(pair[1]) + \" unique songs.\")\n",
    "    artists_names.append(pair[0])\n",
    "    artists_count.append(pair[1])\n",
    "\n",
    "fig, ax = plt.subplots(figsize=(10.5, 6))\n",
    "y_pos = np.arange(len(artists_names))\n",
    "ax.barh(y_pos, artists_count, align=\"center\")\n",
    "ax.set_yticks(y_pos)\n",
    "ax.set_yticklabels(artists_names)\n",
    "ax.invert_yaxis()\n",
    "ax.set_xlabel(\"Number of unique songs\")\n",
    "ax.set_title(\"Top ten artists with their numbers of unique songs\")\n",
    "for i, count in enumerate(artists_count):\n",
    "    ax.text(count, (i + 0.15), str(count), color=\"blue\")\n",
    "plt.show()"
   ],
   "metadata": {
    "collapsed": false,
    "pycharm": {
     "name": "#%%\n"
    }
   }
  }
 ],
 "metadata": {
  "kernelspec": {
   "display_name": "Python 3",
   "language": "python",
   "name": "python3"
  },
  "language_info": {
   "codemirror_mode": {
    "name": "ipython",
    "version": 2
   },
   "file_extension": ".py",
   "mimetype": "text/x-python",
   "name": "python",
   "nbconvert_exporter": "python",
   "pygments_lexer": "ipython2",
   "version": "2.7.6"
  }
 },
 "nbformat": 4,
 "nbformat_minor": 0
}